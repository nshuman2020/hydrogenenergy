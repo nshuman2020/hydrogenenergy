{
 "cells": [
  {
   "cell_type": "markdown",
   "metadata": {
    "extensions": {
     "jupyter_dashboards": {
      "version": 1,
      "views": {
       "grid_default": {
        "hidden": true
       },
       "report_default": {
        "hidden": false
       }
      }
     }
    }
   },
   "source": [
    "<div class=\"alert alert-warning\">\n",
    "Run all cells by accessing the tool bar located at the top-left of this message and use <b>Cell</b> <font size = 2tp> $\n",
    "\\begin{align}\n",
    "\\rightarrow\n",
    "\\end{align}\n",
    "$ </font><b>Run All</b>. To run an individual cell, press <kbd>Shift</kbd> + <kbd>Enter</kbd>.\n",
    "</div><br><br>\n",
    "<a id='Home'></a>\n",
    "<font size=7pt>\n",
    "Materials for Hydrogen-Based Energy Conversion\n",
    "</font>\n",
    "\n",
    "*Nicole Shuman$^1$, Susan P. Gentry$^1$*<br>\n",
    "*1. Materials Science and Engineering, University of California, Davis*"
   ]
  },
  {
   "cell_type": "markdown",
   "metadata": {
    "extensions": {
     "jupyter_dashboards": {
      "version": 1,
      "views": {
       "grid_default": {
        "col": 0,
        "height": 4,
        "hidden": false,
        "row": 0,
        "width": 12
       },
       "report_default": {
        "hidden": false
       }
      }
     }
    },
    "slideshow": {
     "slide_type": "subslide"
    }
   },
   "source": [
    "## Introduction\n",
    "***\n",
    "><font>With the ever-growing need to find solutions for clean, sustainable, and renewable energy, hydrogen-based energy conversion has emerged as a likely candidate to assist in solving this problem. Hydrogen-based energy is a clean alternative to fuel and is capable of generating power, electricity, and heat, which can be used to operate cars, power houses, and more. We can produce hydrogen-gas (and oxygen) by using energy to split water in a device known as an electrolyzer. The electrolyzer can be connected to storage tanks where the hydrogen and oxygen products can be stored or connected to a fuel cell that uses the hydrogen-gas product as a power generating fuel source.<br>\n",
    "\n",
    "<img style=\"-webkit-user-select: none;margin: auto;\" src=\"https://upload.wikimedia.org/wikipedia/commons/6/6f/RH2cycle.png\" width=\"600\" height=\"500\"><br><br>\n",
    "\n",
    ">Like any technology, there are always options to improve and optimize productivity. This notebook aims to provide a brief introduction into the world of fuel cells and electrolyzers by reviewing chemical reactions, electrochemistry and then explore electrolyzer and fuel cell construction. Lastly, we will simulate how different types of materials play a role in the overall efficiency of hydrogen production.<br><br>\n",
    "    <b><font size = 4tp>This module will illustrate the following concepts:</font></b><br>\n",
    "    \n",
    "* [**Chemical Reactions: A Brief Review**](#FD)\n",
    "    - [Understanding Chemical Reactions](#FD.2)\n",
    "    - [Transfer of Electrons](#FD.3)\n",
    "    - [Half-Reactions](#FD.4)\n",
    "    - [Thermodynamics](#FD.5)\n",
    "* [**Electrochemisty**](#SD)\n",
    "    - [Batteries: Construction and Materials](#SD.1)\n",
    "    - [Chemical Reactions in Batteries](#SD.2)\n",
    "* [**Electrolyzers and Fuel Cells**](#AD)\n",
    "    - [Electrolyzers](#AD.1)\n",
    "    - [Fuel Cells](#AD.2)\n",
    "* [**Putting It All Together: Hydrogen Gas Production**](#ED)\n",
    "    - [Simulation Activity](#SIM)\n",
    "* [**Conclusion**](#AE)<br><br>  \n",
    "  ><b><font size = 3tp> Reference Sources</b><br>\n",
    "  Hydrogen Cycle Image: Rh2network, CC BY-SA 3.0 <https://creativecommons.org/licenses/by-sa/3.0>, via Wikimedia Commons\n"
   ]
  },
  {
   "cell_type": "markdown",
   "metadata": {
    "extensions": {
     "jupyter_dashboards": {
      "version": 1,
      "views": {
       "grid_default": {
        "hidden": true
       },
       "report_default": {
        "hidden": false
       }
      }
     }
    }
   },
   "source": [
    "## <a id='FD'></a> Chemical Reactions: A Brief Review\n",
    "***\n",
    "><a id='FD.2'></a> \n",
    "<b><font size = 4tp>Understanding Chemical Reactions </font></b><br><br>\n",
    "Chemical reactions are responsible for much of what we see (and don't see) happening around us. Our cars use a combustion reaction to convert fuel into mechanical energy. Our bodies use cellular respiration to convert food into energy so that our bodies can function. Plants use photosynthesis to convert light to chemical energy. Without these chemical reactions, much of our world, including us, would cease to exist.<br><br>\n",
    "At a very basic level, chemical reactions involve the conversion of reactants to products. There are five ways for categorizing a chemical reaction: <b>Combination reaction (synthesis)</b>, <b>decomposition reaction</b>, <b>single-replacement reaction</b>, <b>double-displacement reaction (double-replacement)</b>, and the <b>combustion reaction</b>. Understanding the categorization of a reaction allows one to understand and predict end products. The reaction is represented by a chemical equation, where reactants and products are separated by an arrow that can be double-sided or single-sided. Let's look at some examples.<br>\n",
    "\n",
    "<img style=\"-webkit-user-select: none;margin: auto;\" src=\"https://www.chemistrylearner.com/wp-content/uploads/2020/08/Types-of-chemical-reactions.jpg\" width=\"400\" height=\"400\">\n",
    "\n",
    "><a id='FD.3'></a>\n",
    "<b><font size = 4tp>Transfer of Electrons</font> </b> <br><br>\n",
    "Given that we are exploring electrolyzer and fuel cell reactions, we will focus on a special type of reaction known as an <b>Oxidation-Reduction</b> reaction or a <b>Redox</b> reaction. While the other types of reactions focus on predicting products from reactants, the redox reaction focuses on the transfer of electrons. When an element (or species) in a redox reaction has lost an electron, we say the element (or species) has been <b>oxidized</b> and is the <b>reducing agent</b>. When the element (or species) has gained an electron, it has been <b>reduced</b> and is the <b>oxidizing agent</b>.<br><br>\n",
    "<img style=\"-webkit-user-select: none;margin: auto;\" src=\"https://upload.wikimedia.org/wikipedia/commons/8/8c/Redox_Halves.png\" width=\"300\" height=\"100\"><br>\n",
    "It should be noted that some oxidation-reduction reactions occur without gaining or losing electrons, but rather a change of the oxidation state of the element (or species). We encourage you to explore more about [oxidation states](https://en.wikipedia.org/wiki/Oxidation_state).<br><br>\n",
    "><a id='FD.4'></a>\n",
    "><b><font size = 4tp> Half-Reactions</font> </b> <br><br>\n",
    "Half reactions provide insight into electron transfer (change in oxidation state) for the overall reaction. They are especially useful for balancing the redox reaction. Half-reactions are necessary for describing the <b>potential</b> of an <b>electrochemical cell</b>, which is important in describing reactions as <b>spontaneous</b>, or <b>non-spontaneous</b>. A spontaneous reaction will proceed in the direction it is written and a non-spontaneous reaction will run in reverse. Spontaneity is based on the <b>energetics</b> or <b>thermodynamics</b> of the reaction. Let's take a look at the overall and half-reactions for the <b>electrolysis of water</b> in an acidic aqueous electrolyte.<br>\n",
    "\n",
    "><b>Anode Half Reaction:</b><font size = 4tp> $\n",
    "\\begin{align}\n",
    "2H_{2}O_{(l)} \\rightarrow O_{2(g)} + 4H^+_{(aq)} + 4e^- \\space \\space \\space \\space E^0_{cell} = +1.23V\n",
    "\\end{align}\n",
    "$ </font><br>\n",
    "\n",
    "><b>Cathode Half Reaction:</b><font size = 4tp> $\n",
    "\\begin{align}\n",
    "4H^+_{(aq)} + 4e^- \\rightarrow 2H_{2(g)} \\space \\space \\space \\space E^0_{cell} = 0.00V\n",
    "\\end{align}\n",
    "$ </font><br>\n",
    "\n",
    "><b>Overall Reaction:</b><font size = 4tp> $\n",
    "\\begin{align}\n",
    "2H_{2}O_{(l)} \\rightarrow 2H_{2(g)} + O_{2(g)} \\space \\space \\space \\space E^0_{total} = -1.23V\n",
    "\\end{align}\n",
    "$ </font><br><br>\n",
    "<img style=\"-webkit-user-select: none;margin: auto;\" src=\"https://upload.wikimedia.org/wikipedia/commons/f/f1/Electrolysis_of_Water.png\" width=\"400\" height=\"400\"><br>\n",
    "We realize <b>anode</b>, <b>cathode</b>, and the <font size = 2tp><b> $ \\begin{align} E^0 = \\pm 1.23V \\end{align}$</b> </font> might be new to you, but we will be covering those items in our <b>thermodynamics</b> and <b>electrochemistry</b> section. For now, we will describe the <b>anode</b> as the place where oxidation occurs and the <b>cathode</b> as the place where reduction occurs. The above reaction is also known as the water-splitting reaction because two molecules of water are being decomposed to form one molecule of oxygen gas and two molecules of hydrogen gas. This is the key reaction to producing hydrogen gas and the focal point for our lesson plan.\n",
    "\n",
    "><a id='FD.5'></a>\n",
    "><b><font size = 4tp> Thermodynamics</font></b><br><br>\n",
    "Without taking a deep-dive, we will briefly review the key points necessary for understanding the subsequent sections and simulation which includes <b>Gibb's free energy</b> and <b>cell potential</b>. In general, thermodynamics is concerned with the exchange of <b>heat</b>/<b>energy</b>, and the <b>work</b> of a reaction.   Gibbs free energy allows us to use that information to determine the potential of the reaction given by the equation:<br>\n",
    "><font size = 4tp> $\n",
    "\\begin{align}\n",
    "\\Delta G = \\Delta H - T \\Delta S\n",
    "\\end{align}\n",
    "$ </font><br><br>\n",
    "where<font size = 2tp> $\n",
    "\\begin{align}\n",
    "\\Delta G \\end{align}\n",
    "$ </font> is the change in free energy (potential) in units of Joules, <font size = 2tp> $\n",
    "\\begin{align}\n",
    "\\Delta H \\end{align}\n",
    "$ </font>, is <b>heat</b> or <b>enthalpy</b> in units of Joules, <i>T</i>, is the temperature in units of Kelvin, and <font size = 2tp> $\n",
    "\\begin{align}\n",
    "\\Delta S \\end{align}\n",
    "$ </font> is the <b>entropy</b> or disorder of the reaction in units Joules per Kelvin. You will sometimes see notation that has \"<font size = 2tp><b>$\\begin{align}^0\\end{align}$</b></font>\" following the <font size = 2tp> $\n",
    "\\begin{align}\n",
    "\\Delta G,\\end{align}\n",
    "$ </font> <font size = 2tp> $\n",
    "\\begin{align}\n",
    "\\Delta S,\\end{align}\n",
    "$ </font> <font size = 2tp> $\n",
    "\\begin{align}\n",
    "\\Delta H,\\end{align}\n",
    "$ </font> or even the \"E\" from our equation above. This \"<font size = 2tp><b>$\\begin{align}^0\\end{align}$</b></font>\" refers to the thermodynamic standard state or standard temperature and pressure (STP), where the pressure is 1 atm and the temperature is 293 K (20$^{\\circ}$C). If we consider a reaction with a negative <font size = 2tp> $\n",
    "\\begin{align}\n",
    "\\Delta G \\end{align}\n",
    "$ </font>value, the reaction is said to be spontaneous, conversely, a positive <font size = 2tp> $\n",
    "\\begin{align}\n",
    "\\Delta G \\end{align}\n",
    "$ </font> value will result in a non-spontaneous reaction. When <font size = 2tp> $\n",
    "\\begin{align}\n",
    "\\Delta G \\end{align}\n",
    "$ </font>is equal to zero, the reaction is considered to be in equilibrium. Feel free to explore more about [Gibbs free energy](https://chem.libretexts.org/@go/page/1951). We encourage you to explore the [Differential Forms of Fundamental Equations](https://chem.libretexts.org/@go/page/1933.), too.<br><br>\n",
    "Our next equation, the <b>cell potential</b>, is another form of the Gibbs free energy equation that allows us to determine the potential (thermodynamics) for a half-reaction and overall reaction. This is important in calculating how much electrical energy is converted from chemical energy. This is where we will put a bit of clarification surrounding the half-reactions above. The next section transitions into <b>electrochemistry</b> and <b>batteries</b>, so it is essential that we establish a relationship that helps us conceptualize energy potential for an electrochemical system.<br><br>\n",
    "In an electrochemical cell, we have both an oxidation reaction and reduction reaction taking place. The <b>cell potential</b> allows us to find the associated energy (voltage) for the reaction at the anode, cathode, and the overall reaction. This can be evaluated at standard and non-standard conditions using the <b>[Nernst Equation](https://chem.libretexts.org/@go/page/273)</b>. For example, using our water-splitting reaction above, the anode half-reaction has an associated potential of <font size = 2tp> $ \\begin{align} E^0 = 1.23V \\end{align}$</font>, the cathode reaction has no potential associated with it, and the overall reaction is <font size = 2tp> $ \\begin{align} E^0 = -1.23V \\end{align}$</font>. You might be wondering why we ended with an overall negative cell potential and that is given in the equation below where we subtract the oxidation potential from the reduction potential:<br>\n",
    "><font size = 4tp> $\n",
    "\\begin{align}\n",
    "E^0 _{cell} = E^0_{reduction} - E^0_{oxidation}\n",
    "\\end{align}\n",
    "$ </font><br><br>\n",
    "This equation is connected to Gibbs by:<br>\n",
    "><font size = 4tp> $\n",
    "\\begin{align}\n",
    "\\Delta G^0 = -nFE^0\n",
    "\\end{align}\n",
    "$ </font><br><br>\n",
    "where <i>n</i> is the number of electrons transferred in the balanced reaction, <i>F</i> is Faraday's constant, and <i>E</i> is the potential difference. Like our Gibbs equation above, a negative cell potential (or free energy) would be considered favorable and spontaneous, where a positive value would be unfavorable and non-spontaneous. Both equations are extremely useful in calculating the cell potential. Here is a list of [Standard Cell Potentials](https://chem.libretexts.org/@go/page/53973). Please explore the links scattered throughout this section to learn the specifics.<br><br>\n",
    "\n",
    "><b><font size = 3tp> Reference Sources</b><br>\n",
    "Types of Chemical Reactions Image: https://www.chemistrylearner.com/chemical-reactions<br>\n",
    ">Redox-Reaction Image: Cameron Garnham, CC BY-SA 3.0 <http://creativecommons.org/licenses/by-sa/3.0/>, via Wikimedia Commons<br>\n",
    ">Electrolysis of Water Image: JSquish, CC BY-SA 3.0 <https://creativecommons.org/licenses/by-sa/3.0>, via Wikimedia Commons<br>\n",
    "><font id=\"citeText\">Gibbs (Free) Energy. 21 Aug. 2020, https://chem.libretexts.org/@go/page/1951.</font>            \n",
    "><font id=\"citeText\">Differential Forms of Fundamental Equations. 15 Aug. 2020, https://chem.libretexts.org/@go/page/1933.</font><br>\n",
    "><font id=\"citeText\">Nernst Equation. 15 Aug. 2020, https://chem.libretexts.org/@go/page/273</font><br>\n",
    "><font id=\"citeText\">Calculating Standard Cell Potentials. 12 Aug. 2020, https://chem.libretexts.org/@go/page/53973</font>"
   ]
  },
  {
   "cell_type": "markdown",
   "metadata": {
    "extensions": {
     "jupyter_dashboards": {
      "version": 1,
      "views": {
       "grid_default": {
        "hidden": true
       },
       "report_default": {
        "hidden": false
       }
      }
     }
    }
   },
   "source": [
    "## <a id='SD'></a> Electrochemistry\n",
    "***\n",
    "><font>Now that we've covered the basics for chemical reactions, thermodynamics, and a bit of cell potential, let's jump right into electrochemistry. The topics covered here will provide a brief overview of <b>electrochemical cells</b>, their composition and construction, and the significance of their chemical reactions. The easiest way to illustrate those characteristics is by analyzing batteries. Much of what we learned above for cell potentials will come in handy here.</font><br>\n",
    "><a id='SD.1'></a>   \n",
    "<b><font size = 4tp>Batteries (Electrochemical Cells): Construction and Materials</b><br><br>\n",
    "><a id='SD.2'></a>\n",
    "There are many types of [batteries and battery systems](https://chem.libretexts.org/@go/page/21796) in production, but to keep focused on our goal here (Electrolyzers and Fuel Cells), we are going to review [galvanic cells](https://chem.libretexts.org/@go/page/38304) and transition to electrolytic cells. It is important that we review both types of cells because galvanic cells provide a great overview of electrochemical cells and electrolytic cells carry out our water-splitting reaction.<br><br><b>Galvanic Cells</b> function using the chemical energy released in a spontaneous oxidation-reduction reaction to generate electricity (electrical energy). One source of energy is being converted to another, which follows the [First Law of Thermodynamics](https://en.wikipedia.org/wiki/First_law_of_thermodynamics). An <b>Electrolytic Cell</b> uses (consumes) external electric energy to drive non-spontaneous oxidation-reduction reactions. The water-splitting reaction described above is a non-spontaneous reaction without the addition of some external energy. Both types of cells share similarities in their construction; both having two <b>electrodes</b> (<b>anode</b> and <b>cathode</b>) and an <b>electrolytic solution</b> that allows for the transferring of ions between the electrodes. Depending on the application, the electrolyte can be a paste, solution, or molten salt. The electrodes in either cell are composed of metals or compounds with varying chemical potentials. Zinc is often used as an anode and copper as the cathode. The two electrodes are joined via an external circuit. In our image below, the galvanic cell is connected to a lightbulb and the electrolytic cell is connected to an outlet with a voltmeter or ammeter to measure energy and/or current flow. In galvanic cells, we also see a semi-permeable membrane that assists in maintaining electrical neutrality. Using the same image below, we can see that the charge associated with the anode and cathode are different in each cell due to the spontaneity of the reaction. In any case, the <b>oxidation</b> is taking place at the anode and <b>reduction</b> is taking place at the cathode, which can be seen in the image as well.   \n",
    "<img style=\"-webkit-user-select: none;margin: auto;\" src=\"https://chem.libretexts.org/@api/deki/files/126360/imageedit_4_6384949106.jpg?revision=2\" width=\"600\" height=\"500\"><br><br>\n",
    "  \n",
    "><b><font size = 4tp>Chemical Reactions in Batteries</font></b><br><br>\n",
    "><b>Discharging and Charging the Cell</b><br>\n",
    "When a battery is being used, the anode discharges electrons. The electrolyte serves as the medium to transport those electrons to the cathode. This flow of electrons from the anode to the cathode through the external circuit powers the lightbulb or other electronic device. This process is known as discharging. Your battery is converting the chemical energy of the cell's reaction to produce electricity. The reversal of this reaction represents charging. This is when we plug our computer or phone into an electrical outlet and use that external electrical energy to reverse the reaction.<br><br>Over time, we notice that our electrical devices fail to hold their charge as long as they used to or take much longer to recharge. The battery performance is a direct result of the materials used within the cell and additional reactions taking place within the cell that are not contributing to current flow. You can explore more about that [here](https://chem.libretexts.org/@go/page/287).\n",
    "<img style=\"-webkit-user-select: none;margin: auto;\" src=\"https://cdn.pixabay.com/photo/2016/05/08/14/22/batteries-1379208_1280.png\" width=\"500\" height=\"300\"><br>\n",
    "><b>Overpotential</b><br>\n",
    "In galvanic cells, we use overpotential to describe the potential difference between an experimentally determined reductional potential and its thermodynamically determined value. The overpotential value is directly related to the energy efficiency of the battery cell. In an electrolytic cell, overpotential is related to how much more energy a cell needs to drive the reaction when compared with thermodynamic data. In both cases, this difference or addition of energy continues to obey the First Law of Thermodynamics in that it is released as heat during the reaction. Overpotential is one of the key takeaways for this module as it allows us to describe specific reactions, even if it is the same reaction in a cell. The overpotential will differ per reaction, with different materials, and different conditions. We will discuss this again in the application of <b>Tafel Diagrams</b> in the next section.<br><br>\n",
    "><b><font size = 3tp>Reference Sources</font></b><br>\n",
    "><font id=\"citeText\">Batteries and Fuel Cells. 14 Aug. 2020, https://chem.libretexts.org/@go/page/21796</font><br>\n",
    "><font id=\"citeText\">Paul Flowers, Klaus Theopold &amp; Richard Langley et al., 2020. Galvanic Cells. Available at: https://chem.libretexts.org/@go/page/38304</font><br>\n",
    ">Galvanic Cell Image: https://chem.libretexts.org/@api/deki/files/126360/imageedit_4_6384949106.jpg?revision=2         \n",
    "><font id=\"citeText\"> Galvanic Cells. 18 Sept. 2019, https://chem.libretexts.org/@go/page/48478.</font><br>\n",
    "><font id=\"citeText\">Batteries: Electricity Though Chemical Reactions. 15 Aug. 2020, https://chem.libretexts.org/@go/page/287</font>"
   ]
  },
  {
   "attachments": {},
   "cell_type": "markdown",
   "metadata": {
    "extensions": {
     "jupyter_dashboards": {
      "version": 1,
      "views": {
       "grid_default": {
        "hidden": true
       },
       "report_default": {
        "hidden": false
       }
      }
     }
    }
   },
   "source": [
    "## <a id='AD'></a> Electrolyzers & Fuel Cells\n",
    "***\n",
    ">Now that we have established a brief understanding of chemical reactions and electrochemistry, we can introduce electrolyzers, the devices responsible for hydrogen gas production. We will then discuss how we use fuel cells to convert the hydrogen gas into electrical energy.<br><br>\n",
    "><a id='AD.1'></a>\n",
    "><b><font size = 4tp>Electrolyzers</font></b><br><br>\n",
    "An electrolyzer is a device that uses electricity to decompose water into hydrogen and oxygen. As described above, the water-splitting reaction is not spontaneous and requires external energy for the reaction to proceed. Much like the cells we have discussed, electrolyzers include an anode, cathode, and electrolyte. Depending on the design, the electrolyte could be a liquid (alkaline) or a solid polymer electrolyte. A <b>unipolar</b> electrolyzer generally uses the liquid electrolyte and  a <b>bipolar</b> electrolyzer uses the solid polymer electrolyte. There are many different varieties of electrolyzers which include alkaline electrolyzers, PEM (proton exchange membrane) based electrolyzers, and solid-oxide electrolyzers.<br><br> \n",
    "<img style=\"-webkit-user-select: none;margin: auto;\" src=\"https://www.woodmac.com/contentassets/8a4bf475a00044baae1910eefab01c6d/hydrogen-animation-2.gif\" width=\"400\" height=\"600\"><br>\n",
    "><b>Water-Splitting Reaction - Hydrogen Gas Production</b><br>\n",
    "We have already introduced the half-reactions responsible for hydrogen gas production in our \"Half Reactions\" section. The overall reaction is known as water-splitting, but we can dissect each half-reaction as it takes place at the anode and cathode. The reaction at the anode is known as the <b>Oxygen Evolution Reaction (OER)</b> because oxygen is produced. The reaction that takes place at the cathode is known as the <b>Hydrogen Evolution Reaction (HER)</b> because hydrogen is produced. To summarize hydrogen gas production: We add deionized water to the electrolyzer. The water reacts at the anode to form oxygen and positively charged ions (protons). Electrons then flow through an external circuit while the hydrogen ions selectively move across the membrane to the cathode. Here, the protons combine with the electrons to form hydrogen gas, which can be stored and saved as a carrier for energy or connected to a fuel cell for immediate use. We use deionized water to prevent side reactions from taking place. <br><br>\n",
    "><b>Oxygen Evolution Reaction (OER):</b><font size = 4tp> $\n",
    "\\begin{align}\n",
    "2H_{2}O_{(l)} \\rightarrow O_{2(g)} + 4H^+_{(aq)} + 4e^-\n",
    "\\end{align}\n",
    "$ </font><br>\n",
    "\n",
    "><b>Hydrogen Evolution Reaction (HER):</b><font size = 4tp> $\n",
    "\\begin{align}\n",
    "4H^+_{(aq)} + 4e^- \\rightarrow 2H_{2(g)}\n",
    "\\end{align}\n",
    "$ </font><br>\n",
    "\n",
    "><b>Overall Reaction:</b><font size = 4tp> $\\begin{align}\n",
    "2H_{2}O_{(l)} \\rightarrow O_{2(g)} + 2H_{2(g)}\n",
    "\\end{align}\n",
    "$ </font><br><br>\n",
    "Using what we learned in the <b>thermodynamics</b> section, we can recall that the associated theoretical value for the potential of the overall water-splitting reaction is -1.23V. The theoretical Gibbs free energy is equal to 237 kJ/mol. Both of these values are representative of the reaction without an electrolyzer. We know this because water-splitting is a non-spontaneous reaction and both the potential and Gibbs free energy values correspond to non-spontaneous reactions. The role of the electrolyzer is to add electricity to drive non-spontaneous reactions. In doing so, the Gibbs free energy becomes -237 kJ/mol as the reaction is driven to occur with the addition of the electrical energy. Given the theoretical cell potential of 1.23V for the water <b>electrolysis</b> (water-splitting), we can calculate the overpotential in experimental settings by subtracting 1.23V from the experimental voltage. Another way of looking at this for reaction kinetics, the overpotential value is related to the activation energy as the additional voltage necessary to generate the water-splitting reaction. These experimental values can be affected by varying current values, <b>current densities</b>, and electrode materials, which serve as <b>catalysts</b> for hydrogen and oxygen production. One such way for describing these changes is a <b>Tafel diagram</b>.<br><br>\n",
    "<b>Tafel Diagrams</b><br>\n",
    "Tafel diagrams provide a unique way of graphically illustrating the relationship between overpotential and the log  of <b>current density</b>. Current density is defined as the amount of current flowing per unit cross-sectional area of a material. The material in reference is the electrode (anode and/or cathode). The Tafel diagram is created using the <b>Butler-Volmer equation</b>, which showcases the relationship between the current and applied potential for the electrochemical cell (anode and cathode).<br><br>\n",
    "><font size = 4tp> $\n",
    "\\begin{align}\n",
    "j=j_0 \\left[ \\exp \\left({\\frac{\\alpha_a z F \\eta}{RT}}\\right) - \\exp \\left({-\\frac{\\alpha_c z F \\eta}{RT}}\\right) \\right]\n",
    "\\end{align}\n",
    "$ </font><br><br>\n",
    "where <font size = 2tp><b>$\\begin{align}j\\end{align}$</b></font> is the electrode density, <font size = 2tp><b>$\\begin{align}j_0\\end{align}$</b></font> is the exchange current density,<font size = 2tp><b>$\\begin{align}T\\end{align}$</b></font> is the absolute temperature,<font size = 2tp><b>$\\begin{align}z\\end{align}$</b></font> is the number of electrons involved in the electrode reaction, <font size = 2tp><b>$\\begin{align}F\\end{align}$</b></font> is Faraday's constant, <font size = 2tp><b>$\\begin{align}R\\end{align}$</b></font> is the gas constant, <font size = 2tp><b>$\\begin{align}\\alpha_a\\end{align}$</b></font> and <font size = 2tp><b>$\\begin{align}\\alpha_c\\end{align}$</b></font> are the anodic and cathodic charge transfer coefficients, respectively, and <font size = 2tp><b>$\\begin{align}\\eta\\end{align}$</b></font> is the overpotential. We encourage you to explore the [<b>Butler-Volmer equation</b>](https://en.wikipedia.org/wiki/Butler%E2%80%93Volmer_equation) using the provided link. The overpotential for the individual anodic and cathodic reactions are analyzed using the Tafel equation.<br><br>\n",
    "><font size = 4tp> $\n",
    "\\begin{align}\n",
    "\\eta = \\pm A \\left[\\log_{10} \\left(\\frac{j}{j_0} \\right) \\right] \n",
    "\\end{align}\n",
    "$ </font><br><br>\n",
    "where <font size = 2tp><b>$\\begin{align}\\eta\\end{align}$</b></font> is the overpotential, <font size = 2tp><b>$\\begin{align}j\\end{align}$</b></font> is the electrode density, <font size = 2tp><b>$\\begin{align}j_0\\end{align}$</b></font> is the exchange current density, and <font size = 2tp><b>$\\begin{align}A\\end{align}$</b></font> is the Tafel slope. For the simulation part of this lesson, we will be using Tafel diagrams to illustrate how different <b>catalyst</b> materials affect the overpotential, similar to the figure shown below.<br><br>\n",
    "<img style=\"-webkit-user-select: none;margin: auto;\" src=\"https://live.staticflickr.com/65535/51157042835_57dcf7ae71_z.jpg\" width=\"400\" height=\"400\"><br>\n",
    "Using the image above, we can see three different types of catalysts graphed on a Tafel diagram: A, B, and C. With that, we have an arrow showcasing the efficiency of each catalyst with the more efficient material, C, displaying an overpotential closest to zero. This means that if material C were to be used as an electrode in an electrolyzer, very little additional energy would be needed for the reaction to proceed. In short, this material is very efficient and could function well as a catalyst in hydrogen production.<br><br>There are many different types of materials used in electrolyzers and each has its own advantages and disadvantages. The most important considerations for a catalyst are their <b>stability</b>, <b>activity</b>, and <b>selectivity</b>. We want an electrochemically stable electrode in basic, neutral, and acidic environments; different electrolyzers use different electrolytes to assist in electron transportation. Activity is concerned with active sites available for the reaction to take place. Selectivity is important when we consider the intermediate reactions associated with water-splitting. We want a material that will reduce the likelihood of these reactions so that no additional energy will be lost and little degredation to the surface of the electrode. Precious metals such as platinum and palladium are some of the best-known catalysts due to their stability, activity, and selectivity. A major drawback is that they are very expensive. Common metals like aluminum and vanadium are expensive and display poor activity resulting in decreased efficiency. Nickel alloys like nickel/molybdenum and nickel/aluminum are inexpensive, are very active, and stable in basic environments, but lack stability in acidic electrolytes and display activity lower than that of precious metals. Molybdenum sulfides are also inexpensive and very active, but are unstable in basic electrolytes and lack the activity of precious metals. We can see that there are many trade-offs when considering material selection; however, once a material is selected, we can start producing hydrogen (and oxygen) in our electrolyzer.\n",
    "<br><br>\n",
    "<a id='AD.2'></a>\n",
    "><b><font size = 4tp>Fuel Cells</font></b><br><br>\n",
    "With our hydrogen gas produced and stored, we can now connect our storage tanks to a fuel cell so that we can produce electricity. Given that our main focus here is hydrogen production using an electrolyzer, we will only briefly review what a fuel cell is and how it works to produce electricity.<br><br>\n",
    "><b>What is a Fuel Cell?</b><br>\n",
    "Fuel cells are similar to electrolyzers in construction in that they have two electrodes, an anode and cathode, that are sandwiched around an electrolyte as shown in the image below. Fuel cells function by taking both hydrogen and air in at the anode and cathode, respectively. The anode catalyst separates the hydrogen molecules into protons and electrons. The protons move through the electrolyte and make their way to the cathode. The electrons travel through an external circuit and thereby generate electricity. Finally, water and heat are produced when the protons and electrons meet at the cathode. Other fuel sources can be used which would alter the products, but for this lesson, we are keeping focused on hydrogen.<br><br>\n",
    "<img style=\"-webkit-user-select: none;margin: auto;\" src=\"https://upload.wikimedia.org/wikipedia/commons/6/63/Proton_Exchange_Fuel_Cell_Diagram.svg\" width=\"300\" height=\"100\"><br>\n",
    "\n",
    ">The reaction taking place at the anode is known as the hydrogen oxidation reaction (HOR) and the reaction at the cathode is the oxygen reduction reaction (ORR). We can see that the overall reaction is a combination (or synthesis) reaction that combines the reactants, hydrogen and oxygen, to form water.<br><br>\n",
    "><b>Hydrogen Oxidation Reaction (HOR):</b><font size = 4tp> $\n",
    "\\begin{align}\n",
    "2H_{2(g)} \\rightarrow 4H^+_{(aq)} + 4e^-\n",
    "\\end{align}\n",
    "$ </font><br>\n",
    "\n",
    "><b>Oxygen Reduction Reaction (ORR):</b><font size = 4tp> $\n",
    "\\begin{align}\n",
    "O_{2(g)} + 4H^+_{(aq)} + 4e^- \\rightarrow 2H_{2}O_{(l)}\n",
    "\\end{align}\n",
    "$ </font><br>\n",
    "\n",
    "><b>Overall Reaction:</b><font size = 4tp> $\\begin{align}\n",
    "2H_{2(g)} + O_{2(g)} \\rightarrow 2H_{2}O_{(l)}\n",
    "\\end{align}\n",
    "$ </font><br><br>\n",
    "\n",
    "><b><font size = 3tp>Reference Sources</font></b><br>\n",
    ">Animated Electrolyzer Image: Wood Mackenzie, U.S. Department of Energy <br>\n",
    ">Tafel Diagram Example: Flickr Davis2021<br>\n",
    ">[Fuel Cells](https://www.energy.gov/eere/fuelcells/fuel-cells)<br>\n",
    ">Fuel Cell Image: https://upload.wikimedia.org/wikipedia/commons/6/63/Proton_Exchange_Fuel_Cell_Diagram.svg"
   ]
  },
  {
   "cell_type": "markdown",
   "metadata": {
    "extensions": {
     "jupyter_dashboards": {
      "version": 1,
      "views": {
       "grid_default": {
        "col": 0,
        "height": 4,
        "hidden": false,
        "row": 4,
        "width": 4
       },
       "report_default": {
        "hidden": true
       }
      }
     }
    }
   },
   "source": [
    "## <a id='ED'></a> Putting It All Together: Hydrogen Gas Production\n",
    "***\n",
    "><div class=\"alert alert-warning\">\n",
    "Run all cells by accessing the tool bar located at the top-left of this message and use <b>Cell</b> <font size = 2tp> $\n",
    "\\begin{align}\n",
    "\\rightarrow\n",
    "\\end{align}\n",
    "$ </font><b>Run All</b>. To run an individual cell, press <kbd>Shift</kbd> + <kbd>Enter</kbd>.\n",
    "</div><br><br>\n",
    "With a general understanding of chemical reactions, electrochemistry, electrolyzers, and fuel cells, we can put this knowledge together to see how different materials perform in the production of hydrogen gas. The simulation below highlights the HER for six materials: chromium, aluminum, cobalt, nickel, rhodium, and platinum, on a Tafel diagram.<br><br>\n",
    "<b>The Simulation Code</b><br>\n",
    "This simulation was coded in Python using various <b>libraries</b>, which gives the programmer access to a collection of functions without the need to write your own code. There are over 137,000 Python libraries available to are great for data visualization, image and data manipulation, drop-down menus, and so much more. The libraries used in this simulation are <b>matplotlib</b>, <b>matplotlib.pyplot</b>, <b>NumPy</b>, and <b>ipywidgets</b>. Together, [matplotlib](https://matplotlib.org/stable/index.html) and [matplotlib.pyplot](https://matplotlib.org/stable/api/_as_gen/matplotlib.pyplot.html) allows the programmer to use an object-oriented application programming interface to embed plots. [NumPy](https://numpy.org/) is used to generate multi-dimensional arrays and matrices which can be plotted using the aforementioned libraries. These three libraries work together to closely resemble a [MATLAB](https://www.mathworks.com/products/matlab.html) interface. Finally, [ipywidgets](https://ipywidgets.readthedocs.io/en/latest/examples/Using%20Interact.html) interact feature generates a user interface where those accessing the code/notebook can interact with and explore the programmer's data.<br><br>\n",
    "For this simulation, we used the research performed by [Chen et al.](https://pubs.acs.org/doi/10.1021/nl2020476), focusing on Fig. 5 (e), which highlights the overpotential vs. log of the current density for a variety of materials undergoing the hydrogen evolution reaction (HER). We selected the six materials mentioned above and graphed the tafel slope data in the simulation below. Users can view one or all datasets together.\n",
    "\n",
    "><b><font size = 3tp>Reference Sources</font></b><br>\n",
    ">[Matplotlib](https://matplotlib.org/stable/index.html)<br>\n",
    ">[NumPy](https://numpy.org/)<br>\n",
    ">[Matplotlib Wiki](https://en.wikipedia.org/wiki/Matplotlib)<br>\n",
    "><b>Simulation modeled after :</b><br> \n",
    "Chen, Zhebo, et al. “Core–Shell MoO3–MoS2 Nanowires for Hydrogen Evolution: A Functional Design for Electrocatalytic Materials.”<br> <i>Nano Letters</i>, vol. 11, no. 10, 2011, pp. 4168–4175., [doi:10.1021/nl2020476.](https://pubs.acs.org/doi/10.1021/nl2020476)"
   ]
  },
  {
   "cell_type": "markdown",
   "metadata": {},
   "source": [
    "## <a id='SIM'></a> Simulation Activity"
   ]
  },
  {
   "cell_type": "code",
   "execution_count": 2,
   "metadata": {
    "extensions": {
     "jupyter_dashboards": {
      "version": 1,
      "views": {
       "grid_default": {},
       "report_default": {
        "hidden": true
       }
      }
     }
    },
    "scrolled": true
   },
   "outputs": [
    {
     "data": {
      "application/vnd.jupyter.widget-view+json": {
       "model_id": "8f4ceee94b2c46d7a9ecdb54960bc697",
       "version_major": 2,
       "version_minor": 0
      },
      "text/html": [
       "<p>Failed to display Jupyter Widget of type <code>interactive</code>.</p>\n",
       "<p>\n",
       "  If you're reading this message in the Jupyter Notebook or JupyterLab Notebook, it may mean\n",
       "  that the widgets JavaScript is still loading. If this message persists, it\n",
       "  likely means that the widgets JavaScript library is either not installed or\n",
       "  not enabled. See the <a href=\"https://ipywidgets.readthedocs.io/en/stable/user_install.html\">Jupyter\n",
       "  Widgets Documentation</a> for setup instructions.\n",
       "</p>\n",
       "<p>\n",
       "  If you're reading this message in another frontend (for example, a static\n",
       "  rendering on GitHub or <a href=\"https://nbviewer.jupyter.org/\">NBViewer</a>),\n",
       "  it may mean that your frontend doesn't currently support widgets.\n",
       "</p>\n"
      ],
      "text/plain": [
       "interactive(children=(Dropdown(description='Material', options=('All Datasets', 'Chromium', 'Aluminum', 'Cobalt', 'Nickel', 'Rhodium', 'Platinum'), value='All Datasets'), Output()), _dom_classes=('widget-interact',))"
      ]
     },
     "metadata": {},
     "output_type": "display_data"
    }
   ],
   "source": [
    "## Libraries Used in This Simulation\n",
    "import matplotlib.pyplot as plt\n",
    "import matplotlib\n",
    "import numpy as np\n",
    "import ipywidgets as widgets\n",
    "from ipywidgets import interact\n",
    "from matplotlib.ticker import (MultipleLocator, AutoMinorLocator)\n",
    "\n",
    "## Material Data\n",
    "Cr_j = np.array([-6.73, -6.54, -6.24, -5.93, -5.53, -5.13, -4.75])\n",
    "Cr_op = np.array([0.55, 0.56, 0.57, 0.59, 0.62, 0.67, 0.73])\n",
    "Al_j = np.array([-5.03, -4.65, -4.49, -4.33, -3.78, -2.70, -2.35])\n",
    "Al_op = np.array([0.40, 0.41, 0.42, 0.44, 0.50, 0.64, 0.68])\n",
    "Co_j = np.array([-4.56, -4.55, -3.44, -2.33, -2.18, -1.82])\n",
    "Co_op = np.array ([0.22, 0.22, 0.36, 0.51, 0.53, 0.626])\n",
    "Ni_j = np.array([-1.38, -4.61, -5.11, -5.53, -5.94, -6.84, -6.88])\n",
    "Ni_op = np.array([0.61, 0.15, 0.10, 0.08, 0.05, 0.02, 0.015])\n",
    "Rh_j = np.array([-2.15, -2.28, -2.44, -2.64, -2.77, -3.05, -3.37, -3.64, -3.85])\n",
    "Rh_op = np.array([0.08, 0.06, 0.05, 0.04, 0.035, 0.03, 0.025, 0.02, 0.015])\n",
    "Pt_j = np.array([-0.74, -2.68, -3.98, -3.97])\n",
    "Pt_op = np.array([0.07, 0.015, 0.0034, 0.003407])\n",
    "\n",
    "## Material Selection for Dropdown Menu\n",
    "def material_selection(Material):\n",
    "    fig,ax=plt.subplots(1,1)\n",
    "    ax.clear()\n",
    "    if Material == 'Chromium':\n",
    "        a = ax.plot(Cr_j,Cr_op, color='green', linewidth=3)\n",
    "        a[0].set_label(Material)\n",
    "    elif Material == 'Aluminum':\n",
    "        a = ax.plot(Al_j,Al_op, color='blue', linewidth=3)\n",
    "        a[0].set_label(Material)\n",
    "    elif Material == 'Cobalt':\n",
    "        a = ax.plot(Co_j,Co_op, color='orange', linewidth=3)\n",
    "        a[0].set_label(Material)\n",
    "    elif Material == 'Nickel':\n",
    "        a = ax.plot(Ni_j,Ni_op, color='red', linewidth=3)\n",
    "        a[0].set_label(Material)\n",
    "    elif Material == 'Rhodium':\n",
    "        a = ax.plot(Rh_j,Rh_op, color='violet', linewidth=3)\n",
    "        a[0].set_label(Material)\n",
    "    elif Material == 'Platinum':\n",
    "        a = ax.plot(Pt_j,Pt_op, color='brown', linewidth=3)\n",
    "        a[0].set_label(Material)\n",
    "    else: \n",
    "        a = ax.plot(Cr_j,Cr_op, color='green', linewidth=3)\n",
    "        a[0].set_label('Chromium')\n",
    "        a = ax.plot(Al_j,Al_op, color='blue', linewidth=3)\n",
    "        a[0].set_label('Aluminum')\n",
    "        a = ax.plot(Co_j,Co_op, color='orange', linewidth=3)\n",
    "        a[0].set_label('Cobalt')\n",
    "        a = ax.plot(Ni_j,Ni_op, color='red', linewidth=3)\n",
    "        a[0].set_label('Nickel')\n",
    "        a = ax.plot(Rh_j,Rh_op, color='violet', linewidth=3)\n",
    "        a[0].set_label('Rhodium')\n",
    "        a = ax.plot(Pt_j,Pt_op, color='brown', linewidth=3)\n",
    "        a[0].set_label('Platinum')\n",
    "\n",
    "## Plot Information\n",
    "    ax.legend(fontsize=15)\n",
    "    ax.set_xlim([-8,0])\n",
    "    ax.set_ylim([0,.8])\n",
    "    ax.xaxis.set_minor_locator(AutoMinorLocator())\n",
    "    ax.yaxis.set_minor_locator(AutoMinorLocator())\n",
    "    ax.tick_params(which='minor', length=4, color='k')\n",
    "    matplotlib.rc('xtick', labelsize=13) \n",
    "    matplotlib.rc('ytick', labelsize=13) \n",
    "    ax.set_xlabel('$log$(Current Density) $j$ (A/cm$^2$)',fontsize=15)\n",
    "    ax.set_ylabel('Overpotential $\\eta$ (V)',fontsize=15)\n",
    "    ax.set_title('Overpotential vs. Current Density',fontsize=15)\n",
    "    plt.suptitle('Materials for Hydrogen Gas Production',fontsize=20)\n",
    "    fig.set_size_inches(11,8)\n",
    "    ax.grid(True)\n",
    "    \n",
    "## Tells User What Dataset is Being Viewed    \n",
    "    \"\"\"\n",
    "    Print the current widget value in short sentence\n",
    "    \"\"\"\n",
    "    print(f'You are currently viewing {Material}')\n",
    "    plt.show()\n",
    "\n",
    "## Dropdown Menu    \n",
    "widgets.interact(material_selection, Material=[\"All Datasets\",\"Chromium\", \"Aluminum\", \"Cobalt\",\"Nickel\",\"Rhodium\",\"Platinum\"]);"
   ]
  },
  {
   "cell_type": "markdown",
   "metadata": {
    "extensions": {
     "jupyter_dashboards": {
      "version": 1,
      "views": {
       "grid_default": {},
       "report_default": {
        "hidden": false
       }
      }
     }
    }
   },
   "source": [
    "<a id='AE'></a>\n",
    "## Conclusion\n",
    "***\n",
    ">We began by discussing the need for alternative energy solutions that are both clean and renewable. We found that <b>electrolyzers</b> and <b>fuel cells</b> can help with this endeavor by splitting water to form hydrogen gas, and then followed up with the necessary information to understand just how and why this technology works. We started with the fundamentals of <b>chemistry</b>, recapping the various types of <b>chemical reactions</b> and placing an emphasis on <b>oxidation-reduction</b> reactions. The oxidation-reduction reactions usually involved an <b>exchange</b> or <b>transfer of electrons</b> that could best be visualized by looking at the <b>half-reactions</b>. The half-reactions we examined were those involved with the <b>electrolysis of water</b>, or better known as the <b>water-splitting</b> reaction. Each half-reaction had an associated <b>cell potential</b> which served as the catalyst for our brief <b>thermodynamics</b> discussion.<br><br>\n",
    ">We connected our cell potential to <b>Gibb's free energy</b> equation and learned about <b>spontaneous</b> and <b>non-spontaneous</b> reactions. Spontaneous reactions proceeded in the direction that they were written and were considered favorable, while non-spontaneous reactions proceeded in the reverse direction and were unfavorable. We discovered that these reactions are the same types of reactions that charge and discharge the <b>batteries</b> in our electronic devices.<br><br>\n",
    "We introduced batteries as <b>electrochemical cells</b>, focusing on components and reactions for two types of cells: <b>galvanic</b> and <b>electrolytic</b>. The galvanic cells functioned using the <i>chemical</i> energy (potential) in a spontaneous oxidation-reduction reaction to generate <i>electrical</i> energy. Electrolytic cells use <i>external electrical</i> energy to drive non-spontaneous oxidation-reduction reactions and the extra energy needed to drive the non-spontaneous reaction is known as <b>overpotential</b>. We learned that our water-splitting reaction was indeed non-spontaneous and needed external energy for the reaction to proceed. Our electrochemical cell discussion provided the ideal transition into <b>electrolyzers</b> and <b>fuel cells</b>.<br><br>\n",
    "Electrolyzers and fuel cells shared similarities with both the components and reactions in batteries, both contain two electrodes (<b>anode</b> and <b>cathode</b>), and an <b>electrolyte</b>. Electrolyzers function like electrolytic cells in that they assist in providing electrical energy to drive non-spontaneous reactions. Fuel cells then use the hydrogen gas produced by the electrolyzer to generate electricity. In the case of the non-spontaneous water-splitting reaction, the electrolyzer provided that extra energy needed to form hydrogen gas. We learned that the hydrogen gas was produced at the cathode and called the <b>Hydrogen Evolution Reaction</b> (HER) and the <b>Oxygen Evolution Reaction</b> (OER) took place at the anode. In theory, the electrolysis of water has a cell potential of 1.23V and we can calculate the overpotential in experimental settings by subtracting 1.23V from the experimental voltage. It was determined that this overpotential is influenced by <b>current density</b> and electrode materials. We used that knowledge along with the work by Chen et al. to graphically represent overpotential as a function of current density for six different materials.<br><br>\n",
    ">[**Back to Home**](#Home)"
   ]
  },
  {
   "cell_type": "code",
   "execution_count": null,
   "metadata": {},
   "outputs": [],
   "source": []
  }
 ],
 "metadata": {
  "extensions": {
   "jupyter_dashboards": {
    "activeView": "report_default",
    "version": 1,
    "views": {
     "grid_default": {
      "cellMargin": 10,
      "defaultCellHeight": 20,
      "maxColumns": 12,
      "name": "grid",
      "type": "grid"
     },
     "report_default": {
      "name": "report",
      "type": "report"
     }
    }
   }
  },
  "kernelspec": {
   "display_name": "Python 3",
   "language": "python",
   "name": "python3"
  },
  "language_info": {
   "codemirror_mode": {
    "name": "ipython",
    "version": 3
   },
   "file_extension": ".py",
   "mimetype": "text/x-python",
   "name": "python",
   "nbconvert_exporter": "python",
   "pygments_lexer": "ipython3",
   "version": "3.6.5"
  }
 },
 "nbformat": 4,
 "nbformat_minor": 2
}
